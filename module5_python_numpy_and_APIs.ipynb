{
  "nbformat": 4,
  "nbformat_minor": 0,
  "metadata": {
    "colab": {
      "provenance": [],
      "toc_visible": true,
      "authorship_tag": "ABX9TyPymKsmedYtBGrbMRybGcB5",
      "include_colab_link": true
    },
    "kernelspec": {
      "name": "python3",
      "display_name": "Python 3"
    },
    "language_info": {
      "name": "python"
    }
  },
  "cells": [
    {
      "cell_type": "markdown",
      "metadata": {
        "id": "view-in-github",
        "colab_type": "text"
      },
      "source": [
        "<a href=\"https://colab.research.google.com/github/PosgradoMNA/actividades-de-aprendizaje-vallesda/blob/main/module5_python_numpy_and_APIs.ipynb\" target=\"_parent\"><img src=\"https://colab.research.google.com/assets/colab-badge.svg\" alt=\"Open In Colab\"/></a>"
      ]
    },
    {
      "cell_type": "markdown",
      "source": [
        "# Module 5\n",
        "\n",
        "Learning Objectivs\n",
        "\n",
        "* Learn to use Numpy Arrays\n",
        "*  Learn about HTTP Protocol\n",
        "*   Apply simple APIs\n",
        "*  Perform basic webscraping with Python\n",
        "*  Explain difference between APIs and REST APIs\n",
        "*  Learn about how APIs send and receive information\n",
        "\n"
      ],
      "metadata": {
        "id": "P-CEY6yO-0QD"
      }
    },
    {
      "cell_type": "markdown",
      "source": [
        "# Numpy"
      ],
      "metadata": {
        "id": "AT_fdQOX_kaw"
      }
    },
    {
      "cell_type": "code",
      "source": [
        "# How to import and create an array with Numpy\n",
        "import numpy as np\n",
        "a = np.array([0,1,2,3,4])\n",
        "print(a)"
      ],
      "metadata": {
        "colab": {
          "base_uri": "https://localhost:8080/"
        },
        "id": "Mobk_sus_wRb",
        "outputId": "155b8311-d637-4cf1-a504-0d4598c2a597"
      },
      "execution_count": 2,
      "outputs": [
        {
          "output_type": "stream",
          "name": "stdout",
          "text": [
            "[0 1 2 3 4]\n"
          ]
        }
      ]
    },
    {
      "cell_type": "code",
      "source": [
        "# Check type of numpy array\n",
        "type(a)"
      ],
      "metadata": {
        "colab": {
          "base_uri": "https://localhost:8080/"
        },
        "id": "gQnZKtcu_6iL",
        "outputId": "7cc745ee-2f74-4cb6-e17b-7e7019dd6f68"
      },
      "execution_count": 3,
      "outputs": [
        {
          "output_type": "execute_result",
          "data": {
            "text/plain": [
              "numpy.ndarray"
            ]
          },
          "metadata": {},
          "execution_count": 3
        }
      ]
    },
    {
      "cell_type": "code",
      "source": [
        "# Arrays attributes\n",
        "print('size of array', a.size)\n",
        "print('dimension of array', a.ndim)\n",
        "print('shape of array', a.shape)"
      ],
      "metadata": {
        "colab": {
          "base_uri": "https://localhost:8080/"
        },
        "id": "zyUXjNstAHse",
        "outputId": "2ed46340-8f83-4406-f6bc-ba71ab689b43"
      },
      "execution_count": 5,
      "outputs": [
        {
          "output_type": "stream",
          "name": "stdout",
          "text": [
            "size of array 5\n",
            "dimension of array 1\n",
            "shape of array (5,)\n"
          ]
        }
      ]
    },
    {
      "cell_type": "code",
      "source": [
        "# Slicing numpy\n",
        "print('slicing from second index', a[1:4])\n",
        "# Change first element\n",
        "a[0] = 100\n",
        "print('first element', a[0])\n",
        "# How to change values with slicing\n",
        "a[1:4] = 2,3,4\n",
        "print('array with new values', a)"
      ],
      "metadata": {
        "colab": {
          "base_uri": "https://localhost:8080/"
        },
        "id": "ybdPxoybATix",
        "outputId": "ce1c9719-b311-4049-9d97-61b23c883f0a"
      },
      "execution_count": 9,
      "outputs": [
        {
          "output_type": "stream",
          "name": "stdout",
          "text": [
            "slicing from second index [1 2 3]\n",
            "first element 100\n",
            "array with new values [100   2   3   4   4]\n"
          ]
        }
      ]
    },
    {
      "cell_type": "code",
      "source": [
        "# Basic Operations for Data Science with less memory use\n",
        "\n",
        "# Vector addition and subtraction\n",
        "# vector u and v create = z\n",
        "# u = [1, 0], v = [0, 1], z = [1 + 0, 0 + 1] = [1, 1]\n",
        "\n",
        "u = np.array([1, 0])\n",
        "v = np.array([0, 1])\n",
        "\n",
        "z = u + v\n",
        "print('Vector addition', z)\n",
        "\n",
        "p = u - v\n",
        "print('Vector subtraction', p)"
      ],
      "metadata": {
        "colab": {
          "base_uri": "https://localhost:8080/"
        },
        "id": "aW1AkHX8Aict",
        "outputId": "2aa31b19-d500-4bab-fa4c-70658e5a4f27"
      },
      "execution_count": 12,
      "outputs": [
        {
          "output_type": "stream",
          "name": "stdout",
          "text": [
            "Vector addition [1 1]\n",
            "Vector subtraction [ 1 -1]\n"
          ]
        }
      ]
    },
    {
      "cell_type": "code",
      "source": [
        "# Array product with a Scalar\n",
        "m = np.array([1,-1])*np.array([1,1])\n",
        "print('array multiplication', m)"
      ],
      "metadata": {
        "colab": {
          "base_uri": "https://localhost:8080/"
        },
        "id": "6ucJCePMCZzV",
        "outputId": "f94f6603-7dc8-48fd-f8cb-da6b852b25ae"
      },
      "execution_count": 14,
      "outputs": [
        {
          "output_type": "stream",
          "name": "stdout",
          "text": [
            "array multiplication [ 1 -1]\n"
          ]
        }
      ]
    },
    {
      "cell_type": "code",
      "source": [
        "# Array Dot Product / How similar to vectors are\n",
        "# u = [1, 2], v = [3, 1],\n",
        "# result = (1 * 3) + (2 * 1)\n",
        "\n",
        "u = np.array([1,2])\n",
        "v = np.array([3,1])\n",
        "\n",
        "result = np.dot(u, v)\n",
        "print('dot product ', result)"
      ],
      "metadata": {
        "colab": {
          "base_uri": "https://localhost:8080/"
        },
        "id": "IM_I70OND8QQ",
        "outputId": "de49c6d2-a348-43ba-af67-fe532552e68c"
      },
      "execution_count": 16,
      "outputs": [
        {
          "output_type": "stream",
          "name": "stdout",
          "text": [
            "dot product  5\n"
          ]
        }
      ]
    },
    {
      "cell_type": "code",
      "source": [
        "# Adding a constant to an array\n",
        "u = np.array([1,2,3,-1])\n",
        "z = u + 1\n",
        "print('u + 1', z)"
      ],
      "metadata": {
        "colab": {
          "base_uri": "https://localhost:8080/"
        },
        "id": "Hd5TVnqmE8KZ",
        "outputId": "2a9f82d1-8ea5-4e06-a99d-e2789fa78451"
      },
      "execution_count": 19,
      "outputs": [
        {
          "output_type": "stream",
          "name": "stdout",
          "text": [
            "u + 1 [2 3 4 0]\n"
          ]
        }
      ]
    },
    {
      "cell_type": "code",
      "source": [
        "# Universal functions\n",
        "a = np.array([1, -1, 1, -1])\n",
        "mean_a = a.mean()\n",
        "print('find mean of a', mean_a)\n",
        "\n",
        "# gets max of b\n",
        "b = np.array([1, -2, 3, 4, 5])\n",
        "max_b = b.max()\n",
        "print('find max of b', max_b)\n",
        "\n",
        "# apply sin to array\n",
        "c = np.sin(b)\n",
        "print('apply sin', c)"
      ],
      "metadata": {
        "colab": {
          "base_uri": "https://localhost:8080/"
        },
        "id": "2JjeGA1XGXvZ",
        "outputId": "d9f48984-16f8-4bcb-a7e4-694f2110f57a"
      },
      "execution_count": 24,
      "outputs": [
        {
          "output_type": "stream",
          "name": "stdout",
          "text": [
            "find mean of a 0.0\n",
            "find max of b 5\n",
            "apply sin [ 0.84147098 -0.90929743  0.14112001 -0.7568025  -0.95892427]\n"
          ]
        }
      ]
    },
    {
      "cell_type": "code",
      "source": [
        "#linespace\n",
        "np.linspace(-2, 2,num=9)"
      ],
      "metadata": {
        "colab": {
          "base_uri": "https://localhost:8080/"
        },
        "id": "7IHFgv3oGsAt",
        "outputId": "c8f0f3a3-5ba5-4b73-8c51-9a1c4d7bc8c9"
      },
      "execution_count": 29,
      "outputs": [
        {
          "output_type": "execute_result",
          "data": {
            "text/plain": [
              "array([-2. , -1.5, -1. , -0.5,  0. ,  0.5,  1. ,  1.5,  2. ])"
            ]
          },
          "metadata": {},
          "execution_count": 29
        }
      ]
    },
    {
      "cell_type": "code",
      "source": [
        "#plotting\n",
        "import matplotlib.pyplot as plt\n",
        "\n",
        "x = np.linspace(0, 2*np.pi, 100)\n",
        "y = np.sin(x)\n",
        "plt.plot(x,y)"
      ],
      "metadata": {
        "colab": {
          "base_uri": "https://localhost:8080/",
          "height": 282
        },
        "id": "yQPtW1RpMVdn",
        "outputId": "d0140db4-de57-445d-c542-d55c03601c31"
      },
      "execution_count": 36,
      "outputs": [
        {
          "output_type": "execute_result",
          "data": {
            "text/plain": [
              "[<matplotlib.lines.Line2D at 0x7f53a3ca4ed0>]"
            ]
          },
          "metadata": {},
          "execution_count": 36
        },
        {
          "output_type": "display_data",
          "data": {
            "text/plain": [
              "<Figure size 432x288 with 1 Axes>"
            ],
            "image/png": "[encoded data removed]"
          },
          "metadata": {
            "needs_background": "light"
          }
        }
      ]
    },
    {
      "cell_type": "markdown",
      "source": [
        "## Quiz on 1D Numpy Array1"
      ],
      "metadata": {
        "id": "2JcDGcl5QbbH"
      }
    },
    {
      "cell_type": "code",
      "source": [
        "# Implement the following vector subtraction in numpy: u-v\n",
        "\n",
        "u = np.array([1, 0])\n",
        "v = np.array([0, 1])\n",
        "s = u - v\n",
        "print(s)"
      ],
      "metadata": {
        "colab": {
          "base_uri": "https://localhost:8080/"
        },
        "id": "HUJNTG5CQd8S",
        "outputId": "e019f669-7df6-4320-9550-b6683915b4fa"
      },
      "execution_count": 38,
      "outputs": [
        {
          "output_type": "stream",
          "name": "stdout",
          "text": [
            "[ 1 -1]\n"
          ]
        }
      ]
    },
    {
      "cell_type": "code",
      "source": [
        "# Multiply the numpy array z with -2:\n",
        "\n",
        "z = np.array([2, 4])\n",
        "c = z * -2\n",
        "print(c)"
      ],
      "metadata": {
        "colab": {
          "base_uri": "https://localhost:8080/"
        },
        "id": "fBowAV6rM-y7",
        "outputId": "6f872a0d-c789-41b6-bc98-61944d5bbbab"
      },
      "execution_count": 40,
      "outputs": [
        {
          "output_type": "stream",
          "name": "stdout",
          "text": [
            "[-4 -8]\n"
          ]
        }
      ]
    },
    {
      "cell_type": "code",
      "source": [
        "# Consider the list [1, 2, 3, 4, 5] and [1, 0, 1, 0, 1]. Cast both lists to a numpy array then multiply them together:\n",
        "c = np.array([1, 2, 3, 4, 5]) * np.array([1, 0, 1, 0, 1])\n",
        "print(c)"
      ],
      "metadata": {
        "colab": {
          "base_uri": "https://localhost:8080/"
        },
        "id": "9fE80_K2QsI_",
        "outputId": "b81f0052-5bb6-4361-ad22-42a66652382d"
      },
      "execution_count": 41,
      "outputs": [
        {
          "output_type": "stream",
          "name": "stdout",
          "text": [
            "[1 0 3 0 5]\n"
          ]
        }
      ]
    },
    {
      "cell_type": "code",
      "source": [
        "# Import the libraries\n",
        "\n",
        "import time \n",
        "import sys\n",
        "import numpy as np \n",
        "\n",
        "import matplotlib.pyplot as plt\n",
        "%matplotlib inline  \n",
        "\n",
        "def Plotvec2(a,b):\n",
        "    ax = plt.axes()# to generate the full window axes\n",
        "    ax.arrow(0, 0, *a, head_width=0.05, color ='r', head_length=0.1)#Add an arrow to the  a Axes with arrow head width 0.05, color red and arrow head length 0.1\n",
        "    plt.text(*(a + 0.1), 'a')\n",
        "    ax.arrow(0, 0, *b, head_width=0.05, color ='b', head_length=0.1)#Add an arrow to the  b Axes with arrow head width 0.05, color blue and arrow head length 0.1\n",
        "    plt.text(*(b + 0.1), 'b')\n",
        "    plt.ylim(-2, 2)#set the ylim to bottom(-2), top(2)\n",
        "    plt.xlim(-2, 2)#set the xlim to left(-2), right(2)"
      ],
      "metadata": {
        "id": "tcL7RvseQ7xT"
      },
      "execution_count": 42,
      "outputs": []
    },
    {
      "cell_type": "code",
      "source": [
        "# Convert the list [-1, 1] and [1, 1] to numpy arrays a and b. Then, plot the arrays as vectors using the fuction Plotvec2 and find their dot product:\n",
        "\n",
        "a = np.array([-1, 1])\n",
        "b = np.array([1,1])\n",
        "\n",
        "Plotvec2(a, b)\n",
        "dotP = (np.dot(a,b))\n",
        "print(dotP)"
      ],
      "metadata": {
        "colab": {
          "base_uri": "https://localhost:8080/",
          "height": 286
        },
        "id": "_fArbZFvRC37",
        "outputId": "65578e3c-ccf5-4898-b79f-a0e4b19282b5"
      },
      "execution_count": 46,
      "outputs": [
        {
          "output_type": "stream",
          "name": "stdout",
          "text": [
            "0\n"
          ]
        },
        {
          "output_type": "display_data",
          "data": {
            "text/plain": [
              "<Figure size 432x288 with 1 Axes>"
            ],
            "image/png": "[encoded data removed]"
          },
          "metadata": {
            "needs_background": "light"
          }
        }
      ]
    },
    {
      "cell_type": "code",
      "source": [
        "a = np.array([1, 0])\n",
        "b = np.array([0,1])\n",
        "\n",
        "Plotvec2(a, b)\n",
        "dotP = np.dot(a,b)\n",
        "print('Dot Product', dotP)"
      ],
      "metadata": {
        "colab": {
          "base_uri": "https://localhost:8080/",
          "height": 286
        },
        "id": "9xwufVKERQSh",
        "outputId": "fea8469f-6a98-44c2-df8b-6c23ea1bc6b9"
      },
      "execution_count": 49,
      "outputs": [
        {
          "output_type": "stream",
          "name": "stdout",
          "text": [
            "Dot Product 0\n"
          ]
        },
        {
          "output_type": "display_data",
          "data": {
            "text/plain": [
              "<Figure size 432x288 with 1 Axes>"
            ],
            "image/png": "[encoded data removed]"
          },
          "metadata": {
            "needs_background": "light"
          }
        }
      ]
    },
    {
      "cell_type": "code",
      "source": [
        "a = np.array([1, 1])\n",
        "b = np.array([0,1])\n",
        "\n",
        "Plotvec2(a, b)\n",
        "dotP = np.dot(a,b)\n",
        "print('Dot Product', dotP)"
      ],
      "metadata": {
        "colab": {
          "base_uri": "https://localhost:8080/",
          "height": 286
        },
        "id": "Dw4sWOsRRn3l",
        "outputId": "6e59aa8e-d726-43c8-b802-dd17c0a1a0f0"
      },
      "execution_count": 50,
      "outputs": [
        {
          "output_type": "stream",
          "name": "stdout",
          "text": [
            "Dot Product 1\n"
          ]
        },
        {
          "output_type": "display_data",
          "data": {
            "text/plain": [
              "<Figure size 432x288 with 1 Axes>"
            ],
            "image/png": "[encoded data removed]"
          },
          "metadata": {
            "needs_background": "light"
          }
        }
      ]
    },
    {
      "cell_type": "code",
      "source": [
        "a = np.array([1, 1])\n",
        "b = np.array([0,1])\n",
        "\n",
        "Plotvec2(a, b)\n",
        "dotP = np.dot(a,b)\n",
        "print('Dot Product', dotP)"
      ],
      "metadata": {
        "colab": {
          "base_uri": "https://localhost:8080/",
          "height": 286
        },
        "id": "obll-vpOR375",
        "outputId": "049ac073-df0d-4600-cbfe-192de2b9dffa"
      },
      "execution_count": 51,
      "outputs": [
        {
          "output_type": "stream",
          "name": "stdout",
          "text": [
            "Dot Product 0\n"
          ]
        },
        {
          "output_type": "display_data",
          "data": {
            "text/plain": [
              "<Figure size 432x288 with 1 Axes>"
            ],
            "image/png": "[encoded data removed]"
          },
          "metadata": {
            "needs_background": "light"
          }
        }
      ]
    },
    {
      "cell_type": "code",
      "source": [
        "# Convert the list [1, 2, 3] and [8, 9, 10] to numpy arrays arr1 and arr2. Then perform Addition , Subtraction , Multiplication , Division and Dot Operation on the arr1 and arr2.\n",
        "\n",
        "a = np.array([1,2,3])\n",
        "b = np.array([8,9,10])\n",
        "\n",
        "print('Addition', a + b)\n",
        "print('Sub', a - b)\n",
        "print('Mult', a * b)\n",
        "print('Div',a / b)\n",
        "print('Dot', np.dot(a, b))"
      ],
      "metadata": {
        "colab": {
          "base_uri": "https://localhost:8080/"
        },
        "id": "BcW8IKJpR-ef",
        "outputId": "b394f867-cc3a-4cc1-98bf-d089aa02dc67"
      },
      "execution_count": 53,
      "outputs": [
        {
          "output_type": "stream",
          "name": "stdout",
          "text": [
            "Addition [ 9 11 13]\n",
            "Sub [-7 -7 -7]\n",
            "Mult [ 8 18 30]\n",
            "Div [0.125      0.22222222 0.3       ]\n",
            "Dot 56\n"
          ]
        }
      ]
    },
    {
      "cell_type": "code",
      "source": [
        "# Convert the list [1, 2, 3, 4, 5] and [6, 7, 8, 9, 10] to numpy arrays arr1 and arr2. Then find the even and odd numbers from arr1 and arr2.\n",
        "a = np.array([1, 2, 3, 4, 5] )\n",
        "b = np.array([6, 7, 8, 9, 10])\n",
        "\n",
        "print('even', a[1::2], b[1::2])\n",
        "print('odd', a[::2], b[::2])"
      ],
      "metadata": {
        "colab": {
          "base_uri": "https://localhost:8080/"
        },
        "id": "SSXrLQp-SWhG",
        "outputId": "e620d36f-38d6-4f88-ea7b-ebf20ee1d2ae"
      },
      "execution_count": 54,
      "outputs": [
        {
          "output_type": "stream",
          "name": "stdout",
          "text": [
            "even [2 4] [7 9]\n",
            "odd [1 3 5] [ 6  8 10]\n"
          ]
        }
      ]
    },
    {
      "cell_type": "markdown",
      "source": [
        "## Numpy 2D"
      ],
      "metadata": {
        "id": "9XJP9yd9Thg-"
      }
    },
    {
      "cell_type": "code",
      "source": [
        "a = [[11,12,13], [21,22,23],[31,32,33]]\n",
        "A = np.array(a)\n",
        "A.ndim\n",
        "A.shape"
      ],
      "metadata": {
        "colab": {
          "base_uri": "https://localhost:8080/"
        },
        "id": "YNTXV9gUTpJu",
        "outputId": "1d116113-5aab-4480-8b43-651843e46e3e"
      },
      "execution_count": 60,
      "outputs": [
        {
          "output_type": "execute_result",
          "data": {
            "text/plain": [
              "(3, 3)"
            ]
          },
          "metadata": {},
          "execution_count": 60
        }
      ]
    },
    {
      "cell_type": "code",
      "source": [
        "#nDim = number of nested lists"
      ],
      "metadata": {
        "id": "XCHAsagXS9ty"
      },
      "execution_count": null,
      "outputs": []
    }
  ]
}