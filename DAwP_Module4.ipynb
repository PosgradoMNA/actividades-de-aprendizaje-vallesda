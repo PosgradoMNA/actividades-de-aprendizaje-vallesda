{
  "nbformat": 4,
  "nbformat_minor": 0,
  "metadata": {
    "colab": {
      "provenance": [],
      "authorship_tag": "ABX9TyNnA9f/OY8ldF3IKiZ5H4eB",
      "include_colab_link": true
    },
    "kernelspec": {
      "name": "python3",
      "display_name": "Python 3"
    },
    "language_info": {
      "name": "python"
    }
  },
  "cells": [
    {
      "cell_type": "markdown",
      "metadata": {
        "id": "view-in-github",
        "colab_type": "text"
      },
      "source": [
        "<a href=\"https://colab.research.google.com/github/PosgradoMNA/actividades-de-aprendizaje-vallesda/blob/main/DAwP_Module4.ipynb\" target=\"_parent\"><img src=\"https://colab.research.google.com/assets/colab-badge.svg\" alt=\"Open In Colab\"/></a>"
      ]
    },
    {
      "cell_type": "markdown",
      "source": [
        "#Semana 7: Data Analysis with Python\n",
        "\n",
        "##**Nombre**: David Valles\n",
        "##**Matricula**: A01191310"
      ],
      "metadata": {
        "id": "RzBvUJwLqkN7"
      }
    },
    {
      "cell_type": "markdown",
      "source": [
        "##*Module 4: Model Development*##"
      ],
      "metadata": {
        "id": "BbRGEhzDqogR"
      }
    },
    {
      "cell_type": "markdown",
      "source": [
        "###*Linear and Multiple Regression*###"
      ],
      "metadata": {
        "id": "4YXXhwnGOBaN"
      }
    },
    {
      "cell_type": "code",
      "source": [
        "import pandas as pd\n",
        "import numpy as np\n",
        "import matplotlib.pyplot as plt"
      ],
      "metadata": {
        "id": "CtBQG7p0LDUk"
      },
      "execution_count": 1,
      "outputs": []
    },
    {
      "cell_type": "code",
      "source": [
        "path = 'sample_data/automobileEDA.csv'\n",
        "df = pd.read_csv(path)\n",
        "\n",
        "df.describe()"
      ],
      "metadata": {
        "colab": {
          "base_uri": "https://localhost:8080/",
          "height": 382
        },
        "id": "X41zQUPhTH9J",
        "outputId": "184edbb6-76d9-4e5e-b61f-f23a7797ccfc"
      },
      "execution_count": 3,
      "outputs": [
        {
          "output_type": "execute_result",
          "data": {
            "text/plain": [
              "        symboling  normalized-losses  wheel-base      length       width  \\\n",
              "count  201.000000          201.00000  201.000000  201.000000  201.000000   \n",
              "mean     0.840796          122.00000   98.797015    0.837102    0.915126   \n",
              "std      1.254802           31.99625    6.066366    0.059213    0.029187   \n",
              "min     -2.000000           65.00000   86.600000    0.678039    0.837500   \n",
              "25%      0.000000          101.00000   94.500000    0.801538    0.890278   \n",
              "50%      1.000000          122.00000   97.000000    0.832292    0.909722   \n",
              "75%      2.000000          137.00000  102.400000    0.881788    0.925000   \n",
              "max      3.000000          256.00000  120.900000    1.000000    1.000000   \n",
              "\n",
              "           height  curb-weight  engine-size        bore      stroke  \\\n",
              "count  201.000000   201.000000   201.000000  201.000000  197.000000   \n",
              "mean    53.766667  2555.666667   126.875622    3.330692    3.256904   \n",
              "std      2.447822   517.296727    41.546834    0.268072    0.319256   \n",
              "min     47.800000  1488.000000    61.000000    2.540000    2.070000   \n",
              "25%     52.000000  2169.000000    98.000000    3.150000    3.110000   \n",
              "50%     54.100000  2414.000000   120.000000    3.310000    3.290000   \n",
              "75%     55.500000  2926.000000   141.000000    3.580000    3.410000   \n",
              "max     59.800000  4066.000000   326.000000    3.940000    4.170000   \n",
              "\n",
              "       compression-ratio  horsepower     peak-rpm    city-mpg  highway-mpg  \\\n",
              "count         201.000000  201.000000   201.000000  201.000000   201.000000   \n",
              "mean           10.164279  103.405534  5117.665368   25.179104    30.686567   \n",
              "std             4.004965   37.365700   478.113805    6.423220     6.815150   \n",
              "min             7.000000   48.000000  4150.000000   13.000000    16.000000   \n",
              "25%             8.600000   70.000000  4800.000000   19.000000    25.000000   \n",
              "50%             9.000000   95.000000  5125.369458   24.000000    30.000000   \n",
              "75%             9.400000  116.000000  5500.000000   30.000000    34.000000   \n",
              "max            23.000000  262.000000  6600.000000   49.000000    54.000000   \n",
              "\n",
              "              price  city-L/100km      diesel         gas  \n",
              "count    201.000000    201.000000  201.000000  201.000000  \n",
              "mean   13207.129353      9.944145    0.099502    0.900498  \n",
              "std     7947.066342      2.534599    0.300083    0.300083  \n",
              "min     5118.000000      4.795918    0.000000    0.000000  \n",
              "25%     7775.000000      7.833333    0.000000    1.000000  \n",
              "50%    10295.000000      9.791667    0.000000    1.000000  \n",
              "75%    16500.000000     12.368421    0.000000    1.000000  \n",
              "max    45400.000000     18.076923    1.000000    1.000000  "
            ],
            "text/html": [
              "\n",
              "  <div id=\"df-e3e7078b-7e36-4f39-b478-db12f2460718\">\n",
              "    <div class=\"colab-df-container\">\n",
              "      <div>\n",
              "<style scoped>\n",
              "    .dataframe tbody tr th:only-of-type {\n",
              "        vertical-align: middle;\n",
              "    }\n",
              "\n",
              "    .dataframe tbody tr th {\n",
              "        vertical-align: top;\n",
              "    }\n",
              "\n",
              "    .dataframe thead th {\n",
              "        text-align: right;\n",
              "    }\n",
              "</style>\n",
              "<table border=\"1\" class=\"dataframe\">\n",
              "  <thead>\n",
              "    <tr style=\"text-align: right;\">\n",
              "      <th></th>\n",
              "      <th>symboling</th>\n",
              "      <th>normalized-losses</th>\n",
              "      <th>wheel-base</th>\n",
              "      <th>length</th>\n",
              "      <th>width</th>\n",
              "      <th>height</th>\n",
              "      <th>curb-weight</th>\n",
              "      <th>engine-size</th>\n",
              "      <th>bore</th>\n",
              "      <th>stroke</th>\n",
              "      <th>compression-ratio</th>\n",
              "      <th>horsepower</th>\n",
              "      <th>peak-rpm</th>\n",
              "      <th>city-mpg</th>\n",
              "      <th>highway-mpg</th>\n",
              "      <th>price</th>\n",
              "      <th>city-L/100km</th>\n",
              "      <th>diesel</th>\n",
              "      <th>gas</th>\n",
              "    </tr>\n",
              "  </thead>\n",
              "  <tbody>\n",
              "    <tr>\n",
              "      <th>count</th>\n",
              "      <td>201.000000</td>\n",
              "      <td>201.00000</td>\n",
              "      <td>201.000000</td>\n",
              "      <td>201.000000</td>\n",
              "      <td>201.000000</td>\n",
              "      <td>201.000000</td>\n",
              "      <td>201.000000</td>\n",
              "      <td>201.000000</td>\n",
              "      <td>201.000000</td>\n",
              "      <td>197.000000</td>\n",
              "      <td>201.000000</td>\n",
              "      <td>201.000000</td>\n",
              "      <td>201.000000</td>\n",
              "      <td>201.000000</td>\n",
              "      <td>201.000000</td>\n",
              "      <td>201.000000</td>\n",
              "      <td>201.000000</td>\n",
              "      <td>201.000000</td>\n",
              "      <td>201.000000</td>\n",
              "    </tr>\n",
              "    <tr>\n",
              "      <th>mean</th>\n",
              "      <td>0.840796</td>\n",
              "      <td>122.00000</td>\n",
              "      <td>98.797015</td>\n",
              "      <td>0.837102</td>\n",
              "      <td>0.915126</td>\n",
              "      <td>53.766667</td>\n",
              "      <td>2555.666667</td>\n",
              "      <td>126.875622</td>\n",
              "      <td>3.330692</td>\n",
              "      <td>3.256904</td>\n",
              "      <td>10.164279</td>\n",
              "      <td>103.405534</td>\n",
              "      <td>5117.665368</td>\n",
              "      <td>25.179104</td>\n",
              "      <td>30.686567</td>\n",
              "      <td>13207.129353</td>\n",
              "      <td>9.944145</td>\n",
              "      <td>0.099502</td>\n",
              "      <td>0.900498</td>\n",
              "    </tr>\n",
              "    <tr>\n",
              "      <th>std</th>\n",
              "      <td>1.254802</td>\n",
              "      <td>31.99625</td>\n",
              "      <td>6.066366</td>\n",
              "      <td>0.059213</td>\n",
              "      <td>0.029187</td>\n",
              "      <td>2.447822</td>\n",
              "      <td>517.296727</td>\n",
              "      <td>41.546834</td>\n",
              "      <td>0.268072</td>\n",
              "      <td>0.319256</td>\n",
              "      <td>4.004965</td>\n",
              "      <td>37.365700</td>\n",
              "      <td>478.113805</td>\n",
              "      <td>6.423220</td>\n",
              "      <td>6.815150</td>\n",
              "      <td>7947.066342</td>\n",
              "      <td>2.534599</td>\n",
              "      <td>0.300083</td>\n",
              "      <td>0.300083</td>\n",
              "    </tr>\n",
              "    <tr>\n",
              "      <th>min</th>\n",
              "      <td>-2.000000</td>\n",
              "      <td>65.00000</td>\n",
              "      <td>86.600000</td>\n",
              "      <td>0.678039</td>\n",
              "      <td>0.837500</td>\n",
              "      <td>47.800000</td>\n",
              "      <td>1488.000000</td>\n",
              "      <td>61.000000</td>\n",
              "      <td>2.540000</td>\n",
              "      <td>2.070000</td>\n",
              "      <td>7.000000</td>\n",
              "      <td>48.000000</td>\n",
              "      <td>4150.000000</td>\n",
              "      <td>13.000000</td>\n",
              "      <td>16.000000</td>\n",
              "      <td>5118.000000</td>\n",
              "      <td>4.795918</td>\n",
              "      <td>0.000000</td>\n",
              "      <td>0.000000</td>\n",
              "    </tr>\n",
              "    <tr>\n",
              "      <th>25%</th>\n",
              "      <td>0.000000</td>\n",
              "      <td>101.00000</td>\n",
              "      <td>94.500000</td>\n",
              "      <td>0.801538</td>\n",
              "      <td>0.890278</td>\n",
              "      <td>52.000000</td>\n",
              "      <td>2169.000000</td>\n",
              "      <td>98.000000</td>\n",
              "      <td>3.150000</td>\n",
              "      <td>3.110000</td>\n",
              "      <td>8.600000</td>\n",
              "      <td>70.000000</td>\n",
              "      <td>4800.000000</td>\n",
              "      <td>19.000000</td>\n",
              "      <td>25.000000</td>\n",
              "      <td>7775.000000</td>\n",
              "      <td>7.833333</td>\n",
              "      <td>0.000000</td>\n",
              "      <td>1.000000</td>\n",
              "    </tr>\n",
              "    <tr>\n",
              "      <th>50%</th>\n",
              "      <td>1.000000</td>\n",
              "      <td>122.00000</td>\n",
              "      <td>97.000000</td>\n",
              "      <td>0.832292</td>\n",
              "      <td>0.909722</td>\n",
              "      <td>54.100000</td>\n",
              "      <td>2414.000000</td>\n",
              "      <td>120.000000</td>\n",
              "      <td>3.310000</td>\n",
              "      <td>3.290000</td>\n",
              "      <td>9.000000</td>\n",
              "      <td>95.000000</td>\n",
              "      <td>5125.369458</td>\n",
              "      <td>24.000000</td>\n",
              "      <td>30.000000</td>\n",
              "      <td>10295.000000</td>\n",
              "      <td>9.791667</td>\n",
              "      <td>0.000000</td>\n",
              "      <td>1.000000</td>\n",
              "    </tr>\n",
              "    <tr>\n",
              "      <th>75%</th>\n",
              "      <td>2.000000</td>\n",
              "      <td>137.00000</td>\n",
              "      <td>102.400000</td>\n",
              "      <td>0.881788</td>\n",
              "      <td>0.925000</td>\n",
              "      <td>55.500000</td>\n",
              "      <td>2926.000000</td>\n",
              "      <td>141.000000</td>\n",
              "      <td>3.580000</td>\n",
              "      <td>3.410000</td>\n",
              "      <td>9.400000</td>\n",
              "      <td>116.000000</td>\n",
              "      <td>5500.000000</td>\n",
              "      <td>30.000000</td>\n",
              "      <td>34.000000</td>\n",
              "      <td>16500.000000</td>\n",
              "      <td>12.368421</td>\n",
              "      <td>0.000000</td>\n",
              "      <td>1.000000</td>\n",
              "    </tr>\n",
              "    <tr>\n",
              "      <th>max</th>\n",
              "      <td>3.000000</td>\n",
              "      <td>256.00000</td>\n",
              "      <td>120.900000</td>\n",
              "      <td>1.000000</td>\n",
              "      <td>1.000000</td>\n",
              "      <td>59.800000</td>\n",
              "      <td>4066.000000</td>\n",
              "      <td>326.000000</td>\n",
              "      <td>3.940000</td>\n",
              "      <td>4.170000</td>\n",
              "      <td>23.000000</td>\n",
              "      <td>262.000000</td>\n",
              "      <td>6600.000000</td>\n",
              "      <td>49.000000</td>\n",
              "      <td>54.000000</td>\n",
              "      <td>45400.000000</td>\n",
              "      <td>18.076923</td>\n",
              "      <td>1.000000</td>\n",
              "      <td>1.000000</td>\n",
              "    </tr>\n",
              "  </tbody>\n",
              "</table>\n",
              "</div>\n",
              "      <button class=\"colab-df-convert\" onclick=\"convertToInteractive('df-e3e7078b-7e36-4f39-b478-db12f2460718')\"\n",
              "              title=\"Convert this dataframe to an interactive table.\"\n",
              "              style=\"display:none;\">\n",
              "        \n",
              "  <svg xmlns=\"http://www.w3.org/2000/svg\" height=\"24px\"viewBox=\"0 0 24 24\"\n",
              "       width=\"24px\">\n",
              "    <path d=\"M0 0h24v24H0V0z\" fill=\"none\"/>\n",
              "    <path d=\"M18.56 5.44l.94 2.06.94-2.06 2.06-.94-2.06-.94-.94-2.06-.94 2.06-2.06.94zm-11 1L8.5 8.5l.94-2.06 2.06-.94-2.06-.94L8.5 2.5l-.94 2.06-2.06.94zm10 10l.94 2.06.94-2.06 2.06-.94-2.06-.94-.94-2.06-.94 2.06-2.06.94z\"/><path d=\"M17.41 7.96l-1.37-1.37c-.4-.4-.92-.59-1.43-.59-.52 0-1.04.2-1.43.59L10.3 9.45l-7.72 7.72c-.78.78-.78 2.05 0 2.83L4 21.41c.39.39.9.59 1.41.59.51 0 1.02-.2 1.41-.59l7.78-7.78 2.81-2.81c.8-.78.8-2.07 0-2.86zM5.41 20L4 18.59l7.72-7.72 1.47 1.35L5.41 20z\"/>\n",
              "  </svg>\n",
              "      </button>\n",
              "      \n",
              "  <style>\n",
              "    .colab-df-container {\n",
              "      display:flex;\n",
              "      flex-wrap:wrap;\n",
              "      gap: 12px;\n",
              "    }\n",
              "\n",
              "    .colab-df-convert {\n",
              "      background-color: #E8F0FE;\n",
              "      border: none;\n",
              "      border-radius: 50%;\n",
              "      cursor: pointer;\n",
              "      display: none;\n",
              "      fill: #1967D2;\n",
              "      height: 32px;\n",
              "      padding: 0 0 0 0;\n",
              "      width: 32px;\n",
              "    }\n",
              "\n",
              "    .colab-df-convert:hover {\n",
              "      background-color: #E2EBFA;\n",
              "      box-shadow: 0px 1px 2px rgba(60, 64, 67, 0.3), 0px 1px 3px 1px rgba(60, 64, 67, 0.15);\n",
              "      fill: #174EA6;\n",
              "    }\n",
              "\n",
              "    [theme=dark] .colab-df-convert {\n",
              "      background-color: #3B4455;\n",
              "      fill: #D2E3FC;\n",
              "    }\n",
              "\n",
              "    [theme=dark] .colab-df-convert:hover {\n",
              "      background-color: #434B5C;\n",
              "      box-shadow: 0px 1px 3px 1px rgba(0, 0, 0, 0.15);\n",
              "      filter: drop-shadow(0px 1px 2px rgba(0, 0, 0, 0.3));\n",
              "      fill: #FFFFFF;\n",
              "    }\n",
              "  </style>\n",
              "\n",
              "      <script>\n",
              "        const buttonEl =\n",
              "          document.querySelector('#df-e3e7078b-7e36-4f39-b478-db12f2460718 button.colab-df-convert');\n",
              "        buttonEl.style.display =\n",
              "          google.colab.kernel.accessAllowed ? 'block' : 'none';\n",
              "\n",
              "        async function convertToInteractive(key) {\n",
              "          const element = document.querySelector('#df-e3e7078b-7e36-4f39-b478-db12f2460718');\n",
              "          const dataTable =\n",
              "            await google.colab.kernel.invokeFunction('convertToInteractive',\n",
              "                                                     [key], {});\n",
              "          if (!dataTable) return;\n",
              "\n",
              "          const docLinkHtml = 'Like what you see? Visit the ' +\n",
              "            '<a target=\"_blank\" href=https://colab.research.google.com/notebooks/data_table.ipynb>data table notebook</a>'\n",
              "            + ' to learn more about interactive tables.';\n",
              "          element.innerHTML = '';\n",
              "          dataTable['output_type'] = 'display_data';\n",
              "          await google.colab.output.renderOutput(dataTable, element);\n",
              "          const docLink = document.createElement('div');\n",
              "          docLink.innerHTML = docLinkHtml;\n",
              "          element.appendChild(docLink);\n",
              "        }\n",
              "      </script>\n",
              "    </div>\n",
              "  </div>\n",
              "  "
            ]
          },
          "metadata": {},
          "execution_count": 3
        }
      ]
    },
    {
      "cell_type": "code",
      "source": [
        "from sklearn.linear_model import LinearRegression\n",
        "lm = LinearRegression()\n",
        "lm"
      ],
      "metadata": {
        "colab": {
          "base_uri": "https://localhost:8080/"
        },
        "id": "g-UhbTG6UBX3",
        "outputId": "118136f2-6b06-44a7-eab7-44d7d21a4e0d"
      },
      "execution_count": 5,
      "outputs": [
        {
          "output_type": "execute_result",
          "data": {
            "text/plain": [
              "LinearRegression()"
            ]
          },
          "metadata": {},
          "execution_count": 5
        }
      ]
    },
    {
      "cell_type": "code",
      "source": [
        "X = df[['highway-mpg']]\n",
        "Y = df['price']"
      ],
      "metadata": {
        "id": "xjBpuC8kUIZK"
      },
      "execution_count": 6,
      "outputs": []
    },
    {
      "cell_type": "code",
      "source": [
        "lm.fit(X,Y)"
      ],
      "metadata": {
        "colab": {
          "base_uri": "https://localhost:8080/"
        },
        "id": "PArR1bV_VJuA",
        "outputId": "4889c800-1cbd-4820-d6f7-f2829e752564"
      },
      "execution_count": 9,
      "outputs": [
        {
          "output_type": "execute_result",
          "data": {
            "text/plain": [
              "LinearRegression()"
            ]
          },
          "metadata": {},
          "execution_count": 9
        }
      ]
    },
    {
      "cell_type": "code",
      "source": [
        "yHat=lm.predict(X)\n",
        "yHat[0:5]"
      ],
      "metadata": {
        "colab": {
          "base_uri": "https://localhost:8080/"
        },
        "id": "16vZVf2bVPUS",
        "outputId": "dce7a0e0-c299-42d0-919b-b41a02d07bfa"
      },
      "execution_count": 11,
      "outputs": [
        {
          "output_type": "execute_result",
          "data": {
            "text/plain": [
              "array([16236.50464347, 16236.50464347, 17058.23802179, 13771.3045085 ,\n",
              "       20345.17153508])"
            ]
          },
          "metadata": {},
          "execution_count": 11
        }
      ]
    },
    {
      "cell_type": "code",
      "source": [
        "lm.intercept_"
      ],
      "metadata": {
        "colab": {
          "base_uri": "https://localhost:8080/"
        },
        "id": "NzVA2jWvVY_s",
        "outputId": "2b5d76e0-fea4-4d12-cfab-8a91fffb43c5"
      },
      "execution_count": 12,
      "outputs": [
        {
          "output_type": "execute_result",
          "data": {
            "text/plain": [
              "38423.3058581574"
            ]
          },
          "metadata": {},
          "execution_count": 12
        }
      ]
    },
    {
      "cell_type": "code",
      "source": [
        "lm.coef_"
      ],
      "metadata": {
        "colab": {
          "base_uri": "https://localhost:8080/"
        },
        "id": "BfKEo-6qVdDM",
        "outputId": "262be6d1-e7fd-4b6f-d09c-522d32c3bfa6"
      },
      "execution_count": 13,
      "outputs": [
        {
          "output_type": "execute_result",
          "data": {
            "text/plain": [
              "array([-821.73337832])"
            ]
          },
          "metadata": {},
          "execution_count": 13
        }
      ]
    },
    {
      "cell_type": "code",
      "source": [
        "Z = df[['horsepower', 'curb-weight', 'engine-size', 'highway-mpg']]"
      ],
      "metadata": {
        "id": "YWYWODomWHnZ"
      },
      "execution_count": 14,
      "outputs": []
    },
    {
      "cell_type": "code",
      "source": [
        "lm.fit(Z,df['price'])"
      ],
      "metadata": {
        "colab": {
          "base_uri": "https://localhost:8080/"
        },
        "id": "S9DqUxAXWP2p",
        "outputId": "1ad258e2-f4ad-46d2-9871-648d8078e6a0"
      },
      "execution_count": 15,
      "outputs": [
        {
          "output_type": "execute_result",
          "data": {
            "text/plain": [
              "LinearRegression()"
            ]
          },
          "metadata": {},
          "execution_count": 15
        }
      ]
    },
    {
      "cell_type": "code",
      "source": [
        "lm.intercept_"
      ],
      "metadata": {
        "colab": {
          "base_uri": "https://localhost:8080/"
        },
        "id": "7hXQkqbHWUIK",
        "outputId": "69e22a1f-a983-463c-fa42-79a7c782f723"
      },
      "execution_count": 16,
      "outputs": [
        {
          "output_type": "execute_result",
          "data": {
            "text/plain": [
              "-15806.62462632922"
            ]
          },
          "metadata": {},
          "execution_count": 16
        }
      ]
    },
    {
      "cell_type": "code",
      "source": [
        "lm.coef_"
      ],
      "metadata": {
        "colab": {
          "base_uri": "https://localhost:8080/"
        },
        "id": "QeHdh3hAWYTr",
        "outputId": "86c567a7-5d4f-4759-c159-36e5624f63f7"
      },
      "execution_count": 17,
      "outputs": [
        {
          "output_type": "execute_result",
          "data": {
            "text/plain": [
              "array([53.49574423,  4.70770099, 81.53026382, 36.05748882])"
            ]
          },
          "metadata": {},
          "execution_count": 17
        }
      ]
    },
    {
      "cell_type": "code",
      "source": [
        "import seaborn as sns\n",
        "%matplotlib inline "
      ],
      "metadata": {
        "id": "WOxPfPSsWfR8"
      },
      "execution_count": 18,
      "outputs": []
    },
    {
      "cell_type": "code",
      "source": [
        "width = 12\n",
        "height = 10\n",
        "plt.figure(figsize=(width, height))\n",
        "sns.regplot(x=\"highway-mpg\", y=\"price\", data=df)\n",
        "plt.ylim(0,)"
      ],
      "metadata": {
        "colab": {
          "base_uri": "https://localhost:8080/",
          "height": 623
        },
        "id": "csttV7_4WkRk",
        "outputId": "2655fd50-0947-4564-b318-c0466a5f8f12"
      },
      "execution_count": 19,
      "outputs": [
        {
          "output_type": "execute_result",
          "data": {
            "text/plain": [
              "(0.0, 48181.46283855997)"
            ]
          },
          "metadata": {},
          "execution_count": 19
        },
        {
          "output_type": "display_data",
          "data": {
            "text/plain": [
              "<Figure size 864x720 with 1 Axes>"
            ],
            "image/png": "[encoded data removed]"
          },
          "metadata": {
            "needs_background": "light"
          }
        }
      ]
    },
    {
      "cell_type": "code",
      "source": [
        "plt.figure(figsize=(width, height))\n",
        "sns.regplot(x=\"peak-rpm\", y=\"price\", data=df)\n",
        "plt.ylim(0,)"
      ],
      "metadata": {
        "colab": {
          "base_uri": "https://localhost:8080/",
          "height": 623
        },
        "id": "KsuWb6MFWvXf",
        "outputId": "6d098e6b-3600-4276-903a-236be3817e61"
      },
      "execution_count": 20,
      "outputs": [
        {
          "output_type": "execute_result",
          "data": {
            "text/plain": [
              "(0.0, 47414.1)"
            ]
          },
          "metadata": {},
          "execution_count": 20
        },
        {
          "output_type": "display_data",
          "data": {
            "text/plain": [
              "<Figure size 864x720 with 1 Axes>"
            ],
            "image/png": "[encoded data removed]"
          },
          "metadata": {
            "needs_background": "light"
          }
        }
      ]
    },
    {
      "cell_type": "code",
      "source": [
        "df[[\"peak-rpm\",\"highway-mpg\",\"price\"]].corr()"
      ],
      "metadata": {
        "colab": {
          "base_uri": "https://localhost:8080/",
          "height": 143
        },
        "id": "VdsE7RG_W30j",
        "outputId": "e665c038-2cb5-4ea5-a2fb-3bfd134c2509"
      },
      "execution_count": 21,
      "outputs": [
        {
          "output_type": "execute_result",
          "data": {
            "text/plain": [
              "             peak-rpm  highway-mpg     price\n",
              "peak-rpm     1.000000    -0.058598 -0.101616\n",
              "highway-mpg -0.058598     1.000000 -0.704692\n",
              "price       -0.101616    -0.704692  1.000000"
            ],
            "text/html": [
              "\n",
              "  <div id=\"df-370c4c41-3e9d-4ec4-b4b2-98e6f0f71cbd\">\n",
              "    <div class=\"colab-df-container\">\n",
              "      <div>\n",
              "<style scoped>\n",
              "    .dataframe tbody tr th:only-of-type {\n",
              "        vertical-align: middle;\n",
              "    }\n",
              "\n",
              "    .dataframe tbody tr th {\n",
              "        vertical-align: top;\n",
              "    }\n",
              "\n",
              "    .dataframe thead th {\n",
              "        text-align: right;\n",
              "    }\n",
              "</style>\n",
              "<table border=\"1\" class=\"dataframe\">\n",
              "  <thead>\n",
              "    <tr style=\"text-align: right;\">\n",
              "      <th></th>\n",
              "      <th>peak-rpm</th>\n",
              "      <th>highway-mpg</th>\n",
              "      <th>price</th>\n",
              "    </tr>\n",
              "  </thead>\n",
              "  <tbody>\n",
              "    <tr>\n",
              "      <th>peak-rpm</th>\n",
              "      <td>1.000000</td>\n",
              "      <td>-0.058598</td>\n",
              "      <td>-0.101616</td>\n",
              "    </tr>\n",
              "    <tr>\n",
              "      <th>highway-mpg</th>\n",
              "      <td>-0.058598</td>\n",
              "      <td>1.000000</td>\n",
              "      <td>-0.704692</td>\n",
              "    </tr>\n",
              "    <tr>\n",
              "      <th>price</th>\n",
              "      <td>-0.101616</td>\n",
              "      <td>-0.704692</td>\n",
              "      <td>1.000000</td>\n",
              "    </tr>\n",
              "  </tbody>\n",
              "</table>\n",
              "</div>\n",
              "      <button class=\"colab-df-convert\" onclick=\"convertToInteractive('df-370c4c41-3e9d-4ec4-b4b2-98e6f0f71cbd')\"\n",
              "              title=\"Convert this dataframe to an interactive table.\"\n",
              "              style=\"display:none;\">\n",
              "        \n",
              "  <svg xmlns=\"http://www.w3.org/2000/svg\" height=\"24px\"viewBox=\"0 0 24 24\"\n",
              "       width=\"24px\">\n",
              "    <path d=\"M0 0h24v24H0V0z\" fill=\"none\"/>\n",
              "    <path d=\"M18.56 5.44l.94 2.06.94-2.06 2.06-.94-2.06-.94-.94-2.06-.94 2.06-2.06.94zm-11 1L8.5 8.5l.94-2.06 2.06-.94-2.06-.94L8.5 2.5l-.94 2.06-2.06.94zm10 10l.94 2.06.94-2.06 2.06-.94-2.06-.94-.94-2.06-.94 2.06-2.06.94z\"/><path d=\"M17.41 7.96l-1.37-1.37c-.4-.4-.92-.59-1.43-.59-.52 0-1.04.2-1.43.59L10.3 9.45l-7.72 7.72c-.78.78-.78 2.05 0 2.83L4 21.41c.39.39.9.59 1.41.59.51 0 1.02-.2 1.41-.59l7.78-7.78 2.81-2.81c.8-.78.8-2.07 0-2.86zM5.41 20L4 18.59l7.72-7.72 1.47 1.35L5.41 20z\"/>\n",
              "  </svg>\n",
              "      </button>\n",
              "      \n",
              "  <style>\n",
              "    .colab-df-container {\n",
              "      display:flex;\n",
              "      flex-wrap:wrap;\n",
              "      gap: 12px;\n",
              "    }\n",
              "\n",
              "    .colab-df-convert {\n",
              "      background-color: #E8F0FE;\n",
              "      border: none;\n",
              "      border-radius: 50%;\n",
              "      cursor: pointer;\n",
              "      display: none;\n",
              "      fill: #1967D2;\n",
              "      height: 32px;\n",
              "      padding: 0 0 0 0;\n",
              "      width: 32px;\n",
              "    }\n",
              "\n",
              "    .colab-df-convert:hover {\n",
              "      background-color: #E2EBFA;\n",
              "      box-shadow: 0px 1px 2px rgba(60, 64, 67, 0.3), 0px 1px 3px 1px rgba(60, 64, 67, 0.15);\n",
              "      fill: #174EA6;\n",
              "    }\n",
              "\n",
              "    [theme=dark] .colab-df-convert {\n",
              "      background-color: #3B4455;\n",
              "      fill: #D2E3FC;\n",
              "    }\n",
              "\n",
              "    [theme=dark] .colab-df-convert:hover {\n",
              "      background-color: #434B5C;\n",
              "      box-shadow: 0px 1px 3px 1px rgba(0, 0, 0, 0.15);\n",
              "      filter: drop-shadow(0px 1px 2px rgba(0, 0, 0, 0.3));\n",
              "      fill: #FFFFFF;\n",
              "    }\n",
              "  </style>\n",
              "\n",
              "      <script>\n",
              "        const buttonEl =\n",
              "          document.querySelector('#df-370c4c41-3e9d-4ec4-b4b2-98e6f0f71cbd button.colab-df-convert');\n",
              "        buttonEl.style.display =\n",
              "          google.colab.kernel.accessAllowed ? 'block' : 'none';\n",
              "\n",
              "        async function convertToInteractive(key) {\n",
              "          const element = document.querySelector('#df-370c4c41-3e9d-4ec4-b4b2-98e6f0f71cbd');\n",
              "          const dataTable =\n",
              "            await google.colab.kernel.invokeFunction('convertToInteractive',\n",
              "                                                     [key], {});\n",
              "          if (!dataTable) return;\n",
              "\n",
              "          const docLinkHtml = 'Like what you see? Visit the ' +\n",
              "            '<a target=\"_blank\" href=https://colab.research.google.com/notebooks/data_table.ipynb>data table notebook</a>'\n",
              "            + ' to learn more about interactive tables.';\n",
              "          element.innerHTML = '';\n",
              "          dataTable['output_type'] = 'display_data';\n",
              "          await google.colab.output.renderOutput(dataTable, element);\n",
              "          const docLink = document.createElement('div');\n",
              "          docLink.innerHTML = docLinkHtml;\n",
              "          element.appendChild(docLink);\n",
              "        }\n",
              "      </script>\n",
              "    </div>\n",
              "  </div>\n",
              "  "
            ]
          },
          "metadata": {},
          "execution_count": 21
        }
      ]
    },
    {
      "cell_type": "code",
      "source": [
        "width = 12\n",
        "height = 10\n",
        "plt.figure(figsize=(width, height))\n",
        "sns.residplot(x=df['highway-mpg'],y=df['price'])\n",
        "plt.show()"
      ],
      "metadata": {
        "colab": {
          "base_uri": "https://localhost:8080/",
          "height": 606
        },
        "id": "ZyyY9cAwXB_V",
        "outputId": "08a9901d-5df6-47f0-b64e-98cca86a50bc"
      },
      "execution_count": 22,
      "outputs": [
        {
          "output_type": "display_data",
          "data": {
            "text/plain": [
              "<Figure size 864x720 with 1 Axes>"
            ],
            "image/png": "[encoded data removed]"
          },
          "metadata": {
            "needs_background": "light"
          }
        }
      ]
    },
    {
      "cell_type": "code",
      "source": [
        "Y_hat = lm.predict(Z)\n"
      ],
      "metadata": {
        "id": "DQM-c9fHXJst"
      },
      "execution_count": 23,
      "outputs": []
    },
    {
      "cell_type": "code",
      "source": [
        "plt.figure(figsize=(width, height))\n",
        "\n",
        "\n",
        "ax1 = sns.distplot(df['price'], hist=False, color=\"r\", label=\"Actual Value\")\n",
        "sns.distplot(Y_hat, hist=False, color=\"b\", label=\"Fitted Values\" , ax=ax1)\n",
        "\n",
        "\n",
        "plt.title('Actual vs Fitted Values for Price')\n",
        "plt.xlabel('Price (in dollars)')\n",
        "plt.ylabel('Proportion of Cars')\n",
        "\n",
        "plt.show()\n",
        "plt.close()"
      ],
      "metadata": {
        "colab": {
          "base_uri": "https://localhost:8080/",
          "height": 710
        },
        "id": "sW78fm7UXPaR",
        "outputId": "f6cb6fe1-31bc-42c1-e1be-383f245d50d8"
      },
      "execution_count": 24,
      "outputs": [
        {
          "output_type": "stream",
          "name": "stderr",
          "text": [
            "/usr/local/lib/python3.7/dist-packages/seaborn/distributions.py:2619: FutureWarning: `distplot` is a deprecated function and will be removed in a future version. Please adapt your code to use either `displot` (a figure-level function with similar flexibility) or `kdeplot` (an axes-level function for kernel density plots).\n",
            "  warnings.warn(msg, FutureWarning)\n",
            "/usr/local/lib/python3.7/dist-packages/seaborn/distributions.py:2619: FutureWarning: `distplot` is a deprecated function and will be removed in a future version. Please adapt your code to use either `displot` (a figure-level function with similar flexibility) or `kdeplot` (an axes-level function for kernel density plots).\n",
            "  warnings.warn(msg, FutureWarning)\n"
          ]
        },
        {
          "output_type": "display_data",
          "data": {
            "text/plain": [
              "<Figure size 864x720 with 1 Axes>"
            ],
            "image/png": "[encoded data removed]"
          },
          "metadata": {
            "needs_background": "light"
          }
        }
      ]
    },
    {
      "cell_type": "code",
      "source": [
        "def PlotPolly(model, independent_variable, dependent_variabble, Name):\n",
        "    x_new = np.linspace(15, 55, 100)\n",
        "    y_new = model(x_new)\n",
        "\n",
        "    plt.plot(independent_variable, dependent_variabble, '.', x_new, y_new, '-')\n",
        "    plt.title('Polynomial Fit with Matplotlib for Price ~ Length')\n",
        "    ax = plt.gca()\n",
        "    ax.set_facecolor((0.898, 0.898, 0.898))\n",
        "    fig = plt.gcf()\n",
        "    plt.xlabel(Name)\n",
        "    plt.ylabel('Price of Cars')\n",
        "\n",
        "    plt.show()\n",
        "    plt.close()"
      ],
      "metadata": {
        "id": "Lqa7A4E_X5Dm"
      },
      "execution_count": 33,
      "outputs": []
    },
    {
      "cell_type": "code",
      "source": [
        "x = df['highway-mpg']\n",
        "y = df['price']"
      ],
      "metadata": {
        "id": "f2qyaidSX8H0"
      },
      "execution_count": 34,
      "outputs": []
    },
    {
      "cell_type": "code",
      "source": [
        "\n",
        "f = np.polyfit(x, y, 3)\n",
        "p = np.poly1d(f)\n",
        "print(p)"
      ],
      "metadata": {
        "colab": {
          "base_uri": "https://localhost:8080/"
        },
        "id": "SzvFGYrxX9p7",
        "outputId": "1668d701-b637-4c84-9827-274e581fb2e7"
      },
      "execution_count": 35,
      "outputs": [
        {
          "output_type": "stream",
          "name": "stdout",
          "text": [
            "        3         2\n",
            "-1.557 x + 204.8 x - 8965 x + 1.379e+05\n"
          ]
        }
      ]
    },
    {
      "cell_type": "code",
      "source": [
        "PlotPolly(p, x, y, 'highway-mpg')"
      ],
      "metadata": {
        "colab": {
          "base_uri": "https://localhost:8080/",
          "height": 295
        },
        "id": "iewlHtYpX_5f",
        "outputId": "24e7f4da-da29-4062-bb60-de226f4654de"
      },
      "execution_count": 36,
      "outputs": [
        {
          "output_type": "display_data",
          "data": {
            "text/plain": [
              "<Figure size 432x288 with 1 Axes>"
            ],
            "image/png": "[encoded data removed]"
          },
          "metadata": {
            "needs_background": "light"
          }
        }
      ]
    },
    {
      "cell_type": "code",
      "source": [
        "np.polyfit(x, y, 3)"
      ],
      "metadata": {
        "colab": {
          "base_uri": "https://localhost:8080/"
        },
        "id": "9R9wxt5zYBLv",
        "outputId": "928c4ebc-1bfb-48e7-e804-97a8cf603cae"
      },
      "execution_count": 37,
      "outputs": [
        {
          "output_type": "execute_result",
          "data": {
            "text/plain": [
              "array([-1.55663829e+00,  2.04754306e+02, -8.96543312e+03,  1.37923594e+05])"
            ]
          },
          "metadata": {},
          "execution_count": 37
        }
      ]
    },
    {
      "cell_type": "markdown",
      "source": [
        "Linear Regression will refer to one independent variable to make a prediction.\n",
        "\n",
        "\n",
        "Multiple Linear Regression will refer to multiple independent variables to make a prediction.\n"
      ],
      "metadata": {
        "id": "jEqhvEiWOfX_"
      }
    },
    {
      "cell_type": "markdown",
      "source": [
        "Simple Linear Regression (or SLR) is: A method to help us understand the relationship between\n",
        "two variables: The predictor (independent) variable x, and the target (dependent) variable y."
      ],
      "metadata": {
        "id": "KxtKK00qPf-H"
      }
    },
    {
      "cell_type": "markdown",
      "source": [
        "Multiple Linear Regression is used to explain the relationship between\n",
        "- One continuous target (Y) variable, and - Two or more predictor (X) variables.\n",
        "If we have for example 4 predictor variables, then:\n",
        "- B0: intercept (X=0) - B1: the coefficient or parameter of 𝑋1:\n",
        "- B2: the coefficient of parameter 𝑋2: and so on"
      ],
      "metadata": {
        "id": "C115y-cFPdWH"
      }
    },
    {
      "cell_type": "markdown",
      "source": [
        "**Why use regression plot**\n",
        "\n",
        "\n",
        "it gives us a good estimate of\n",
        "1.   the relationship between two variables\n",
        "2.   the strentght of the correlation\n",
        "3. the direction of the relationship (positive or negative)\n",
        "\n"
      ],
      "metadata": {
        "id": "M-cH4_cuQMiH"
      }
    },
    {
      "cell_type": "markdown",
      "source": [
        "**Polynomial Regression and Pipelines**"
      ],
      "metadata": {
        "id": "BHb4c8MyRRkI"
      }
    },
    {
      "cell_type": "markdown",
      "source": [
        "Polynomial regression is a special case of the general linear regression.\n",
        "This method is beneficial for describing curvilinear relationships.\n",
        "What is a curvilinear relationship?\n",
        "It’s what you get by squaring or setting higher-order terms of the predictor variables\n",
        "in the model, transforming the data.\n",
        "The model can be quadratic, which means that the predictor variable in the model is squared."
      ],
      "metadata": {
        "id": "ANidagpRRcpM"
      }
    },
    {
      "cell_type": "markdown",
      "source": [
        "**Pipelines**"
      ],
      "metadata": {
        "id": "XSFdz-ItSHnk"
      }
    },
    {
      "cell_type": "code",
      "source": [
        "from sklearn.pipeline import Pipeline\n",
        "from sklearn.preprocessing import PolynomialFeatures\n",
        "from sklearn.preprocessing import StandardScaler"
      ],
      "metadata": {
        "id": "bEkAo35xXdKL"
      },
      "execution_count": 27,
      "outputs": []
    },
    {
      "cell_type": "code",
      "source": [
        "Input=[('scale',StandardScaler()), ('polynomial', PolynomialFeatures(include_bias=False)), ('model',LinearRegression())]"
      ],
      "metadata": {
        "id": "2rohHyB1Xe1W"
      },
      "execution_count": 28,
      "outputs": []
    },
    {
      "cell_type": "code",
      "source": [
        "pipe=Pipeline(Input)\n",
        "pipe"
      ],
      "metadata": {
        "colab": {
          "base_uri": "https://localhost:8080/"
        },
        "id": "82ldos6MXmXx",
        "outputId": "bf072c43-eaf5-459e-d8da-42ee5f51d77e"
      },
      "execution_count": 29,
      "outputs": [
        {
          "output_type": "execute_result",
          "data": {
            "text/plain": [
              "Pipeline(steps=[('scale', StandardScaler()),\n",
              "                ('polynomial', PolynomialFeatures(include_bias=False)),\n",
              "                ('model', LinearRegression())])"
            ]
          },
          "metadata": {},
          "execution_count": 29
        }
      ]
    },
    {
      "cell_type": "code",
      "source": [
        "Z = Z.astype(float)\n",
        "pipe.fit(Z,y)"
      ],
      "metadata": {
        "colab": {
          "base_uri": "https://localhost:8080/"
        },
        "id": "Xe-qBypAXn5e",
        "outputId": "82ef6585-b3e9-4cf6-de08-b9e7fb9f1d0e"
      },
      "execution_count": 38,
      "outputs": [
        {
          "output_type": "execute_result",
          "data": {
            "text/plain": [
              "Pipeline(steps=[('scale', StandardScaler()),\n",
              "                ('polynomial', PolynomialFeatures(include_bias=False)),\n",
              "                ('model', LinearRegression())])"
            ]
          },
          "metadata": {},
          "execution_count": 38
        }
      ]
    },
    {
      "cell_type": "code",
      "source": [
        "ypipe=pipe.predict(Z)\n",
        "ypipe[0:4]"
      ],
      "metadata": {
        "colab": {
          "base_uri": "https://localhost:8080/"
        },
        "id": "7DZVpoxvXpPB",
        "outputId": "f7393402-c21f-4e84-90a6-e4ae07128463"
      },
      "execution_count": 39,
      "outputs": [
        {
          "output_type": "execute_result",
          "data": {
            "text/plain": [
              "array([13102.74784201, 13102.74784201, 18225.54572197, 10390.29636555])"
            ]
          },
          "metadata": {},
          "execution_count": 39
        }
      ]
    },
    {
      "cell_type": "markdown",
      "source": [
        "**Measures to evaluate how our model fit into our data**\n",
        "\n",
        "\n",
        "\n",
        "*   Mean Squared Error (MSE)\n",
        "*   R-squared(R^2)\n",
        "\n"
      ],
      "metadata": {
        "id": "wQTjxR3nSOUk"
      }
    },
    {
      "cell_type": "code",
      "source": [
        "\n",
        "lm.fit(X, Y)\n",
        "print('The R-square is: ', lm.score(X, Y))"
      ],
      "metadata": {
        "colab": {
          "base_uri": "https://localhost:8080/"
        },
        "id": "5npst3U-YwWK",
        "outputId": "f6c2f045-72e0-40fe-b199-0923ada6dda7"
      },
      "execution_count": 41,
      "outputs": [
        {
          "output_type": "stream",
          "name": "stdout",
          "text": [
            "The R-square is:  0.4965911884339176\n"
          ]
        }
      ]
    },
    {
      "cell_type": "code",
      "source": [
        "lm.fit(X, Y)\n",
        "print('The R-square is: ', lm.score(X, Y))"
      ],
      "metadata": {
        "colab": {
          "base_uri": "https://localhost:8080/"
        },
        "id": "9jpk9keNY6WN",
        "outputId": "564f68e8-eecd-4ce4-b903-962c5a8b5975"
      },
      "execution_count": 43,
      "outputs": [
        {
          "output_type": "stream",
          "name": "stdout",
          "text": [
            "The R-square is:  0.4965911884339176\n"
          ]
        }
      ]
    },
    {
      "cell_type": "code",
      "source": [
        "from sklearn.metrics import mean_squared_error"
      ],
      "metadata": {
        "id": "yavOkxsSY9N-"
      },
      "execution_count": 46,
      "outputs": []
    },
    {
      "cell_type": "code",
      "source": [
        "mse = mean_squared_error(df['price'], Y_hat)\n",
        "print('The mean square error of price and predicted value is: ', mse)"
      ],
      "metadata": {
        "colab": {
          "base_uri": "https://localhost:8080/"
        },
        "id": "8dUKNcrMZDZy",
        "outputId": "9b5b6b6c-0b59-41d2-e951-1edb50ef1721"
      },
      "execution_count": 49,
      "outputs": [
        {
          "output_type": "stream",
          "name": "stdout",
          "text": [
            "The mean square error of price and predicted value is:  11980366.87072649\n"
          ]
        }
      ]
    },
    {
      "cell_type": "markdown",
      "source": [
        "**Decision Making: Determining a Good Model Fit**\n",
        "\n",
        "\n",
        "Now that we have visualized the different models, and generated the R-squared and MSE values for the fits, how do we determine a good model fit?\n",
        "\n",
        "\n",
        "What is a good R-squared value?\n",
        "When comparing models, the model with the higher R-squared value is a better fit for the data.\n",
        "\n",
        "\n",
        "\n",
        "What is a good MSE?\n",
        "When comparing models, the model with the smallest MSE value is a better fit for the data.\n",
        "\n",
        "\n",
        "\n",
        "Let's take a look at the values for the different models.\n",
        "Simple Linear Regression: Using Highway-mpg as a Predictor Variable of Price.\n",
        "\n",
        "\n",
        "\n",
        "R-squared: 0.49659118843391759\n",
        "MSE: 3.16 x10^7\n",
        "Multiple Linear Regression: Using Horsepower, Curb-weight, Engine-size, and Highway-mpg as Predictor Variables of Price.\n",
        "\n",
        "\n",
        "\n",
        "R-squared: 0.80896354913783497\n",
        "MSE: 1.2 x10^7\n",
        "Polynomial Fit: Using Highway-mpg as a Predictor Variable of Price.\n",
        "\n",
        "\n",
        "\n",
        "R-squared: 0.6741946663906514\n",
        "MSE: 2.05 x 10^7\n",
        "Simple Linear Regression Model (SLR) vs Multiple Linear Regression Model (MLR)\n",
        "Usually, the more variables you have, the better your model is at predicting, but this is not always true. Sometimes you may not have enough data, you may run into numerical problems, or many of the variables may not be useful and even act as noise. As a result, you should always check the MSE and R^2.\n",
        "\n",
        "\n",
        "In order to compare the results of the MLR vs SLR models, we look at a combination of both the R-squared and MSE to make the best conclusion about the fit of the model.\n",
        "\n",
        "\n",
        "MSE: The MSE of SLR is 3.16x10^7 while MLR has an MSE of 1.2 x10^7. The MSE of MLR is much smaller.\n",
        "R-squared: In this case, we can also see that there is a big difference between the R-squared of the SLR and the R-squared of the MLR. The R-squared for the SLR (~0.497) is very small compared to the R-squared for the MLR (~0.809).\n",
        "This R-squared in combination with the MSE show that MLR seems like the better model fit in this case compared to SLR.\n",
        "\n",
        "\n",
        "Simple Linear Model (SLR) vs. Polynomial Fit\n",
        "MSE: We can see that Polynomial Fit brought down the MSE, since this MSE is smaller than the one from the SLR.\n",
        "R-squared: The R-squared for the Polynomial Fit is larger than the R-squared for the SLR, so the Polynomial Fit also brought up the R-squared quite a bit.\n",
        "Since the Polynomial Fit resulted in a lower MSE and a higher R-squared, we can conclude that this was a better fit model than the simple linear regression for predicting \"price\" with \"highway-mpg\" as a predictor variable.\n",
        "\n",
        "\n",
        "Multiple Linear Regression (MLR) vs. Polynomial Fit\n",
        "MSE: The MSE for the MLR is smaller than the MSE for the Polynomial Fit.\n",
        "R-squared: The R-squared for the MLR is also much larger than for the Polynomial Fit.\n",
        "\n",
        "\n",
        " **Conclusion**\n",
        "Comparing these three models, we conclude that the MLR model is the best model to be able to predict price from our dataset. This result makes sense since we have 27 variables in total and we know that more than one of those variables are potential predictors of the final car price."
      ],
      "metadata": {
        "id": "VocQyUA4YUdX"
      }
    },
    {
      "cell_type": "markdown",
      "source": [
        "##*Graded Review*##"
      ],
      "metadata": {
        "id": "2BcZbMuEqrQd"
      }
    },
    {
      "cell_type": "markdown",
      "source": [
        "Question 1)\n",
        "\n",
        "Let X be a dataframe with 100 rows and 5 columns. Let y be the target with 100 samples. Assuming all the relevant libraries and data have been imported, the following line of code has been executed:\n",
        "\n",
        "LR = LinearRegression()\n",
        "\n",
        "LR.fit(X, y)\n",
        "\n",
        "yhat = LR.predict(X)\n",
        "\n",
        "\n",
        "How many samples does yhat contain?\n",
        "\n",
        "\n",
        "A) 100\n",
        "\n"
      ],
      "metadata": {
        "id": "-UrVB40WKFFP"
      }
    },
    {
      "cell_type": "markdown",
      "source": [
        "Question 2)\n",
        "\n",
        "What value of R^2 (coefficient of determination) indicates your model performs best?\n",
        "\n",
        "A) 1"
      ],
      "metadata": {
        "id": "xlP0iZDXK1Ht"
      }
    },
    {
      "cell_type": "markdown",
      "source": [
        "Question 3)\n",
        "\n",
        "Which statement is true about polynomial linear regression?\n",
        "\n",
        "\n",
        "A) Although the predictor variables of polynomial linear regression are not linear, the relationship between the parameters or coefficients is linear."
      ],
      "metadata": {
        "id": "TjeFUavwKxnA"
      }
    },
    {
      "cell_type": "markdown",
      "source": [
        "Question 4)\n",
        "\n",
        "The larger the mean squared error, the better your model performs:\n",
        "\n",
        "A) False"
      ],
      "metadata": {
        "id": "y6qHreuTKueW"
      }
    },
    {
      "cell_type": "markdown",
      "source": [
        "Question 5)\n",
        "\n",
        "Assume all the libraries are imported. y is the target and X is the features or dependent variables. Consider the following lines of code:\n",
        "\n",
        "Input=[('scale',StandardScaler()),('model',LinearRegression())]\n",
        "\n",
        "pipe=Pipeline(Input)\n",
        "\n",
        "pipe.fit(X,y)\n",
        "\n",
        "ypipe=pipe.predict(X)\n",
        "\n",
        "What is the result of ypipe?\n",
        "\n",
        "\n",
        "A)Standardize the data, then perform prediction using a linear regression model."
      ],
      "metadata": {
        "id": "0Ob4HA9mKmEk"
      }
    },
    {
      "cell_type": "markdown",
      "source": [
        "##*Evidencias*##"
      ],
      "metadata": {
        "id": "d_QqyUdyquOW"
      }
    },
    {
      "cell_type": "markdown",
      "source": [
        "![evidencia-modulo4.png](data:image/png;base64,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)"
      ],
      "metadata": {
        "id": "L57FWysJbAun"
      }
    }
  ]
}