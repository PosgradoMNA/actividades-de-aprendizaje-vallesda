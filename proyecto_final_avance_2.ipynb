{
  "nbformat": 4,
  "nbformat_minor": 0,
  "metadata": {
    "colab": {
      "provenance": [],
      "collapsed_sections": [],
      "authorship_tag": "ABX9TyNzjNkgg6MexMu03ZuDjMk7",
      "include_colab_link": true
    },
    "kernelspec": {
      "name": "python3",
      "display_name": "Python 3"
    },
    "language_info": {
      "name": "python"
    }
  },
  "cells": [
    {
      "cell_type": "markdown",
      "metadata": {
        "id": "view-in-github",
        "colab_type": "text"
      },
      "source": [
        "<a href=\"https://colab.research.google.com/github/PosgradoMNA/actividades-de-aprendizaje-vallesda/blob/main/proyecto_final_avance_2.ipynb\" target=\"_parent\"><img src=\"https://colab.research.google.com/assets/colab-badge.svg\" alt=\"Open In Colab\"/></a>"
      ]
    },
    {
      "cell_type": "markdown",
      "source": [
        "#Proyecto Final: Avance 2"
      ],
      "metadata": {
        "id": "ofQsXcRejj21"
      }
    },
    {
      "cell_type": "markdown",
      "source": [
        "## Equipo 176\n",
        "\n",
        "\n",
        "##**Nombre**: David Valles Cañedo **Matricula**: A01191310\n",
        "##**Nombre**: Jiram Cesar Villalpando Guerrero **Matricula**: A01793579\n"
      ],
      "metadata": {
        "id": "8HNMwui-KQVh"
      }
    },
    {
      "cell_type": "markdown",
      "source": [
        "* Identificar una metodología que vas a usar durante la realización del proyecto\n",
        "* Escribe los pasos estándares en un máximo de 3 oraciones, por cada fase"
      ],
      "metadata": {
        "id": "FygWMTVxjsQy"
      }
    },
    {
      "cell_type": "markdown",
      "source": [
        "https://thinkinsights.net/data-literacy/crisp-dm/\n",
        "\n",
        "http://gforge.icesi.edu.co/ASUM-DM_External/index.htm#cognos.external.asum-DM_Teaser/deliveryprocesses/ASUM-DM_8A5C87D5.html_wpbs.html?proc=_0eKIHlt6EeW_y7k3h2HTng&path=_0eKIHlt6EeW_y7k3h2HTng\n"
      ],
      "metadata": {
        "id": "P_IAeC2UknUD"
      }
    }
  ]
}