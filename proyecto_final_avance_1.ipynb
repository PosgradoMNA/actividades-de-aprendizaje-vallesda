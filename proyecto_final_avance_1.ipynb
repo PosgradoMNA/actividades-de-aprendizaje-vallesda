{
  "nbformat": 4,
  "nbformat_minor": 0,
  "metadata": {
    "colab": {
      "provenance": [],
      "collapsed_sections": [],
      "authorship_tag": "ABX9TyNef7Y2NlJvu2XePdaD73IV",
      "include_colab_link": true
    },
    "kernelspec": {
      "name": "python3",
      "display_name": "Python 3"
    },
    "language_info": {
      "name": "python"
    }
  },
  "cells": [
    {
      "cell_type": "markdown",
      "metadata": {
        "id": "view-in-github",
        "colab_type": "text"
      },
      "source": [
        "<a href=\"https://colab.research.google.com/github/PosgradoMNA/actividades-de-aprendizaje-vallesda/blob/main/proyecto_final_avance_1.ipynb\" target=\"_parent\"><img src=\"https://colab.research.google.com/assets/colab-badge.svg\" alt=\"Open In Colab\"/></a>"
      ]
    },
    {
      "cell_type": "markdown",
      "source": [
        "#Proyecto Final: Avance 1"
      ],
      "metadata": {
        "id": "ofQsXcRejj21"
      }
    },
    {
      "cell_type": "markdown",
      "source": [
        "## Equipo 176\n",
        "\n",
        "\n",
        "##**Nombre**: David Valles Cañedo **Matricula**: A01191310\n",
        "##**Nombre**: Jiram Cesar Villalpando Guerrero **Matricula**: A01793579\n"
      ],
      "metadata": {
        "id": "X8BaH-S6oyaV"
      }
    },
    {
      "cell_type": "code",
      "source": [],
      "metadata": {
        "id": "afKPZCHZrB2q"
      },
      "execution_count": null,
      "outputs": []
    },
    {
      "cell_type": "markdown",
      "source": [
        "* El nombre que caracteriza el conjunto de datos:\n",
        "\n",
        "* La organización que lo generó:\n",
        "\n",
        "* Incluya un enlace de Internet donde se puedan descargar el base de datos en línea:\n",
        "\n",
        "* Describe el conjunto de datos. ¿Qué datos contiene?\n",
        "* ¿Cuáles son algunas de las preguntas de investigación que podría responder con estos datos? Enumere al menos OCHO (no responda las preguntas).\n",
        "* ¿Qué actor (empresa, sector de la sociedad, organismo descentralizado, gobierno, etc.) estaría interesado en las preguntas mencionadas que identificó?"
      ],
      "metadata": {
        "id": "FygWMTVxjsQy"
      }
    },
    {
      "cell_type": "markdown",
      "source": [
        "\n",
        "\n",
        "https://www.kaggle.com/datasets/zwl1234/top-50-bestselling-novels-20092021-of-amazon\n",
        "\n",
        "http://insideairbnb.com/mexico-city\n",
        "\n",
        "https://www.kaggle.com/datasets/ramjasmaurya/medias-cost-prediction-in-foodmart\n",
        "\n"
      ],
      "metadata": {
        "id": "P_IAeC2UknUD"
      }
    }
  ]
}