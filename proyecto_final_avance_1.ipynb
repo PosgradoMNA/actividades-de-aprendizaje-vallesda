{
  "nbformat": 4,
  "nbformat_minor": 0,
  "metadata": {
    "colab": {
      "provenance": [],
      "collapsed_sections": [],
      "include_colab_link": true
    },
    "kernelspec": {
      "name": "python3",
      "display_name": "Python 3"
    },
    "language_info": {
      "name": "python"
    }
  },
  "cells": [
    {
      "cell_type": "markdown",
      "metadata": {
        "id": "view-in-github",
        "colab_type": "text"
      },
      "source": [
        "<a href=\"https://colab.research.google.com/github/PosgradoMNA/actividades-de-aprendizaje-vallesda/blob/main/proyecto_final_avance_1.ipynb\" target=\"_parent\"><img src=\"https://colab.research.google.com/assets/colab-badge.svg\" alt=\"Open In Colab\"/></a>"
      ]
    },
    {
      "cell_type": "markdown",
      "source": [
        "#Proyecto Final: Avance 1"
      ],
      "metadata": {
        "id": "ofQsXcRejj21"
      }
    },
    {
      "cell_type": "markdown",
      "source": [
        "## Equipo 176\n",
        "\n",
        "\n",
        "##**Nombre**: David Valles Cañedo **Matricula**: A01191310\n",
        "##**Nombre**: Jiram Cesar Villalpando Guerrero **Matricula**: A01793579\n"
      ],
      "metadata": {
        "id": "X8BaH-S6oyaV"
      }
    },
    {
      "cell_type": "markdown",
      "source": [
        "* El nombre que caracteriza el conjunto de datos:\n",
        "\n",
        "* La organización que lo generó:\n",
        "\n",
        "* Incluya un enlace de Internet donde se puedan descargar el base de datos en línea:\n",
        "\n",
        "\n",
        "* Describe el conjunto de datos. ¿Qué datos contiene?\n",
        "\n",
        "* ¿Cuáles son algunas de las preguntas de investigación que podría responder con estos datos? Enumere al menos OCHO (no responda las preguntas).\n",
        "* ¿Qué actor (empresa, sector de la sociedad, organismo descentralizado, gobierno, etc.) estaría interesado en las preguntas mencionadas que identificó?"
      ],
      "metadata": {
        "id": "FygWMTVxjsQy"
      }
    },
    {
      "cell_type": "markdown",
      "source": [
        "**El nombre que caracteriza el conjunto de datos:** Airbnb - Mexico City"
      ],
      "metadata": {
        "id": "7WxSNMfz0m9Y"
      }
    },
    {
      "cell_type": "markdown",
      "source": [
        "**La organización que lo generó:** [Inside Airbnb](http://insideairbnb.com/)\n",
        "\n",
        "\"The data behind the Inside Airbnb site is sourced from publicly available information from the Airbnb site. The data has been analyzed, cleansed and aggregated to faciliate public discussion.\"\n"
      ],
      "metadata": {
        "id": "gZHxgvdC0hTo"
      }
    },
    {
      "cell_type": "markdown",
      "source": [
        "**Incluya un enlace de Internet donde se puedan descargar el base de datos en línea:**  [Inside Airbnb - Mexico City](http://insideairbnb.com/get-the-data)\n"
      ],
      "metadata": {
        "id": "OuZeDVZh1dgJ"
      }
    },
    {
      "cell_type": "markdown",
      "source": [
        "**Describe el conjunto de datos.**\n",
        "\n",
        "Los datos estan recopilados en 4 archivos csv:\n",
        "\n",
        "* listings: id, name, hostId, hostName, neigbourhood,latitude, longitude, roomType, price, minumum nights, lastReview, reviewsPer months, number of reviews, availability.\n",
        "* calendar: listingId, date, availability, price, adjustedPrice, maximum nights, minimum nights.\n",
        "* reviews : listingsId, id, date, reviewerId, reviewer, comment.\n",
        "* neighbourhood: id, nombre.\n",
        "\n"
      ],
      "metadata": {
        "id": "Gr5zoi7v1m-Z"
      }
    },
    {
      "cell_type": "markdown",
      "source": [
        "**¿Cuáles son algunas de las preguntas de investigación que podría responder con estos datos? Enumere al menos OCHO (no responda las preguntas)**\n",
        "\n",
        "\n",
        "\n",
        "\n",
        "\n",
        "*   ¿En qué region hay más Airbnb?\n",
        "*   ¿De cuántos cuartos son la mayoría de casas?\n",
        "*   ¿Cuál es el tipo de habitación más popular?\n",
        "*   ¿Cuál es la alcaldía con mayor número de Airbnb?\n",
        "*   ¿Cuál es la relación entre el número de reviews y la disponibilidad?\n",
        "*   ¿En qué se relaciona el tipo de habitación y las distintas alcaldías?\n",
        "*   ¿Cuál es la relación entre el precio y la disponibilidad?\n",
        "*   ¿Cuáles son los Airbnb más caros y en dónde se encuentran?\n",
        "*   ¿Cuáles es la relacion entre el vecindario y precio?\n",
        "*   ¿Cual es la relacion entre tamaño y precio por zona?\n",
        "\n",
        "\n",
        "\n",
        "\n",
        "\n",
        "\n",
        "\n",
        "\n",
        "\n",
        "\n",
        "\n",
        "\n",
        "\n",
        "\n"
      ],
      "metadata": {
        "id": "VRQqp_Ru4J0e"
      }
    },
    {
      "cell_type": "markdown",
      "source": [
        "**¿Qué actor (empresa, sector de la sociedad, organismo descentralizado, gobierno, etc.) estaría interesado en las preguntas mencionadas que identificó?**\n",
        "\n",
        " Empresas de Bienes Raices, agencias de turismo, Airbnb, y hoteles.\n",
        "\n"
      ],
      "metadata": {
        "id": "TLPYNb6Q4nQu"
      }
    },
    {
      "cell_type": "markdown",
      "source": [
        "http://insideairbnb.com/mexico-city\n",
        "\n",
        "\n",
        "\n",
        "\n"
      ],
      "metadata": {
        "id": "P_IAeC2UknUD"
      }
    }
  ]
}